{
 "cells": [
  {
   "cell_type": "markdown",
   "id": "9591b2df",
   "metadata": {
    "slideshow": {
     "slide_type": "slide"
    }
   },
   "source": [
    "# PyPPL\n",
    "An Python-embedded Probabilistic Programming Language"
   ]
  },
  {
   "cell_type": "code",
   "execution_count": 1,
   "id": "35c568e9",
   "metadata": {
    "slideshow": {
     "slide_type": "-"
    }
   },
   "outputs": [],
   "source": [
    "import pyppl"
   ]
  },
  {
   "cell_type": "markdown",
   "id": "9c114279",
   "metadata": {},
   "source": [
    "> Joshua Duquette, Christopher Liu, Rishi Upadhyay"
   ]
  },
  {
   "cell_type": "markdown",
   "id": "020cb1e9",
   "metadata": {
    "slideshow": {
     "slide_type": "slide"
    }
   },
   "source": [
    "# Different Types of Inference"
   ]
  },
  {
   "cell_type": "code",
   "execution_count": null,
   "id": "6de6676a",
   "metadata": {
    "slideshow": {
     "slide_type": "subslide"
    }
   },
   "outputs": [],
   "source": [
    "Rejection sampling is the simplest type of inference technique, which only involves counting occurances\n",
    "of output and then normalizing them in a distribution.\n",
    "MCMC and other statistical approaches follow a similar pattern and our backend code would allow for \n",
    "easy extension of support inference techniques as each technique is only required to store its context\n",
    "frame and return the desired distribution from the input function.\n",
    "\n",
    "Exact inference functions similarly but instead we extract the execution graph and the compute\n",
    "the probability of a path directly, placing this information directly into the distribution rather\n",
    "than basing it on occurence or other statistical techniques."
   ]
  },
  {
   "cell_type": "code",
   "execution_count": null,
   "id": "7d512bfe",
   "metadata": {
    "slideshow": {
     "slide_type": "fragment"
    }
   },
   "outputs": [],
   "source": [
    "with pyppl.RejectionSampling():\n",
    "    return Flip()\n",
    "\n",
    "with pyppl.ExactInference():\n",
    "    return Flip()"
   ]
  },
  {
   "cell_type": "code",
   "execution_count": null,
   "id": "9bd959d2",
   "metadata": {
    "slideshow": {
     "slide_type": "subslide"
    }
   },
   "outputs": [],
   "source": [
    "We also intend to support hybrid inference by resolving each context frame individually,\n",
    "because each frame generates its own distribution, we simply resolve each individually and\n",
    "aggregate the distribution results in the return"
   ]
  },
  {
   "cell_type": "code",
   "execution_count": null,
   "id": "46464e97",
   "metadata": {
    "slideshow": {
     "slide_type": "fragment"
    }
   },
   "outputs": [],
   "source": [
    "def flip_hybrid():\n",
    "    with pyppl.RejectionSampling():\n",
    "        a = Flip()\n",
    "        with pyppl.ExactInference():\n",
    "            b = Flip()\n",
    "    return a, b"
   ]
  },
  {
   "cell_type": "markdown",
   "id": "51e99544",
   "metadata": {
    "slideshow": {
     "slide_type": "slide"
    }
   },
   "source": [
    "# Our Vision"
   ]
  },
  {
   "cell_type": "code",
   "execution_count": 2,
   "id": "c4a9ae4a",
   "metadata": {
    "slideshow": {
     "slide_type": "fragment"
    }
   },
   "outputs": [],
   "source": [
    "@pyppl.compile\n",
    "def first_head_or_both_tails(\n",
    "    prob_first: bool,\n",
    "    prob_second: bool\n",
    "):\n",
    "    first = pyppl.Flip(prob_first)\n",
    "    if first:\n",
    "        return True\n",
    "    else:\n",
    "        second = pyppl.Flip(prob_second)\n",
    "        return not second"
   ]
  },
  {
   "cell_type": "code",
   "execution_count": 34,
   "id": "bfa3bea5",
   "metadata": {
    "slideshow": {
     "slide_type": "fragment"
    }
   },
   "outputs": [
    {
     "ename": "NotImplementedError",
     "evalue": "ExactInference is unsupported.",
     "output_type": "error",
     "traceback": [
      "\u001b[0;31m---------------------------------------------------------------------------\u001b[0m",
      "\u001b[0;31mNotImplementedError\u001b[0m                       Traceback (most recent call last)",
      "Cell \u001b[0;32mIn[34], line 2\u001b[0m\n\u001b[1;32m      1\u001b[0m \u001b[38;5;28;01mwith\u001b[39;00m pyppl\u001b[38;5;241m.\u001b[39mExactInference():\n\u001b[0;32m----> 2\u001b[0m     is_true \u001b[38;5;241m=\u001b[39m \u001b[43mfirst_head_or_both_tails\u001b[49m\u001b[43m(\u001b[49m\u001b[38;5;241;43m0.5\u001b[39;49m\u001b[43m,\u001b[49m\u001b[43m \u001b[49m\u001b[38;5;241;43m0.5\u001b[39;49m\u001b[43m)\u001b[49m\n\u001b[1;32m      3\u001b[0m \u001b[38;5;28mprint\u001b[39m(is_true)\n",
      "File \u001b[0;32m~/Development/school/UCLA/cs267a-probabilistic-programming/pyppl/.venv/lib/python3.11/site-packages/pyppl/compiler.py:131\u001b[0m, in \u001b[0;36mcompile.<locals>.contextual_execution\u001b[0;34m(*args, **kwargs)\u001b[0m\n\u001b[1;32m    128\u001b[0m     \u001b[38;5;28;01mreturn\u001b[39;00m inference\u001b[38;5;241m.\u001b[39msample(transformed_func, ProbBool,\n\u001b[1;32m    129\u001b[0m                             \u001b[38;5;241m*\u001b[39margs, \u001b[38;5;241m*\u001b[39m\u001b[38;5;241m*\u001b[39mkwargs)\n\u001b[1;32m    130\u001b[0m \u001b[38;5;28;01melif\u001b[39;00m \u001b[38;5;28misinstance\u001b[39m(inference, ExactInference):\n\u001b[0;32m--> 131\u001b[0m     \u001b[38;5;28;01mraise\u001b[39;00m \u001b[38;5;167;01mNotImplementedError\u001b[39;00m(\u001b[38;5;124m\"\u001b[39m\u001b[38;5;124mExactInference is unsupported.\u001b[39m\u001b[38;5;124m\"\u001b[39m)\n\u001b[1;32m    132\u001b[0m \u001b[38;5;28;01melse\u001b[39;00m:\n\u001b[1;32m    133\u001b[0m     \u001b[38;5;28;01mraise\u001b[39;00m \u001b[38;5;167;01mRuntimeError\u001b[39;00m(\u001b[38;5;124mf\u001b[39m\u001b[38;5;124m\"\u001b[39m\u001b[38;5;124mUnsupported inference type \u001b[39m\u001b[38;5;132;01m{\u001b[39;00m\u001b[38;5;28mtype\u001b[39m(inference)\u001b[38;5;132;01m}\u001b[39;00m\u001b[38;5;124m\"\u001b[39m)\n",
      "\u001b[0;31mNotImplementedError\u001b[0m: ExactInference is unsupported."
     ]
    }
   ],
   "source": [
    "with pyppl.RejectionSampling():\n",
    "    is_true = first_head_or_both_tails(0.5, 0.5)\n",
    "print(is_true)"
   ]
  },
  {
   "cell_type": "code",
   "execution_count": 20,
   "id": "0adee6b3",
   "metadata": {
    "slideshow": {
     "slide_type": "fragment"
    }
   },
   "outputs": [
    {
     "ename": "NotImplementedError",
     "evalue": "ExactInference is unsupported.",
     "output_type": "error",
     "traceback": [
      "\u001b[0;31m---------------------------------------------------------------------------\u001b[0m",
      "\u001b[0;31mNotImplementedError\u001b[0m                       Traceback (most recent call last)",
      "Cell \u001b[0;32mIn[20], line 2\u001b[0m\n\u001b[1;32m      1\u001b[0m \u001b[38;5;28;01mwith\u001b[39;00m pyppl\u001b[38;5;241m.\u001b[39mExactInference():\n\u001b[0;32m----> 2\u001b[0m     is_true \u001b[38;5;241m=\u001b[39m \u001b[43mfirst_head_or_both_tails\u001b[49m\u001b[43m(\u001b[49m\u001b[38;5;241;43m0.5\u001b[39;49m\u001b[43m,\u001b[49m\u001b[43m \u001b[49m\u001b[38;5;241;43m0.5\u001b[39;49m\u001b[43m)\u001b[49m\n\u001b[1;32m      3\u001b[0m \u001b[38;5;28mprint\u001b[39m(is_true)\n",
      "File \u001b[0;32m~/Development/school/UCLA/cs267a-probabilistic-programming/pyppl/.venv/lib/python3.11/site-packages/pyppl/compiler.py:131\u001b[0m, in \u001b[0;36mcompile.<locals>.contextual_execution\u001b[0;34m(*args, **kwargs)\u001b[0m\n\u001b[1;32m    128\u001b[0m     \u001b[38;5;28;01mreturn\u001b[39;00m inference\u001b[38;5;241m.\u001b[39msample(transformed_func, ProbBool,\n\u001b[1;32m    129\u001b[0m                             \u001b[38;5;241m*\u001b[39margs, \u001b[38;5;241m*\u001b[39m\u001b[38;5;241m*\u001b[39mkwargs)\n\u001b[1;32m    130\u001b[0m \u001b[38;5;28;01melif\u001b[39;00m \u001b[38;5;28misinstance\u001b[39m(inference, ExactInference):\n\u001b[0;32m--> 131\u001b[0m     \u001b[38;5;28;01mraise\u001b[39;00m \u001b[38;5;167;01mNotImplementedError\u001b[39;00m(\u001b[38;5;124m\"\u001b[39m\u001b[38;5;124mExactInference is unsupported.\u001b[39m\u001b[38;5;124m\"\u001b[39m)\n\u001b[1;32m    132\u001b[0m \u001b[38;5;28;01melse\u001b[39;00m:\n\u001b[1;32m    133\u001b[0m     \u001b[38;5;28;01mraise\u001b[39;00m \u001b[38;5;167;01mRuntimeError\u001b[39;00m(\u001b[38;5;124mf\u001b[39m\u001b[38;5;124m\"\u001b[39m\u001b[38;5;124mUnsupported inference type \u001b[39m\u001b[38;5;132;01m{\u001b[39;00m\u001b[38;5;28mtype\u001b[39m(inference)\u001b[38;5;132;01m}\u001b[39;00m\u001b[38;5;124m\"\u001b[39m)\n",
      "\u001b[0;31mNotImplementedError\u001b[0m: ExactInference is unsupported."
     ]
    }
   ],
   "source": [
    "with pyppl.ExactInference():\n",
    "    is_true = first_head_or_both_tails(0.5, 0.5)\n",
    "print(is_true)"
   ]
  },
  {
   "cell_type": "code",
   "execution_count": null,
   "id": "be5c8d9d",
   "metadata": {},
   "outputs": [],
   "source": []
  }
 ],
 "metadata": {
  "celltoolbar": "Slideshow",
  "kernelspec": {
   "display_name": "Python 3 (ipykernel)",
   "language": "python",
   "name": "python3"
  },
  "language_info": {
   "codemirror_mode": {
    "name": "ipython",
    "version": 3
   },
   "file_extension": ".py",
   "mimetype": "text/x-python",
   "name": "python",
   "nbconvert_exporter": "python",
   "pygments_lexer": "ipython3",
   "version": "3.9.13"
  }
 },
 "nbformat": 4,
 "nbformat_minor": 5
}
