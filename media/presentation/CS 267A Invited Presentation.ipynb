{
 "cells": [
  {
   "cell_type": "markdown",
   "id": "9591b2df",
   "metadata": {
    "slideshow": {
     "slide_type": "slide"
    }
   },
   "source": [
    "# PyPPL\n",
    "An Python-embedded Probabilistic Programming Language"
   ]
  },
  {
   "cell_type": "code",
   "execution_count": 1,
   "id": "35c568e9",
   "metadata": {
    "slideshow": {
     "slide_type": "-"
    }
   },
   "outputs": [],
   "source": [
    "import pyppl"
   ]
  },
  {
   "cell_type": "markdown",
   "id": "9c114279",
   "metadata": {},
   "source": [
    "> Joshua Duquette, Christopher Liu, Rishi Upadhyay"
   ]
  },
  {
   "cell_type": "markdown",
   "id": "2dcafe45",
   "metadata": {
    "slideshow": {
     "slide_type": "slide"
    }
   },
   "source": [
    "# Choose your inference style"
   ]
  },
  {
   "cell_type": "markdown",
   "id": "854d4d19",
   "metadata": {
    "slideshow": {
     "slide_type": "fragment"
    }
   },
   "source": [
    "## 1. Exact Inference (e.g., Dice)\n",
    "- Statically analyze the execution graph and compute the distribution.\n",
    "- Fast inference for discrete programs."
   ]
  },
  {
   "cell_type": "code",
   "execution_count": 2,
   "id": "062ba80e",
   "metadata": {},
   "outputs": [
    {
     "ename": "SyntaxError",
     "evalue": "invalid syntax (4138560784.py, line 3)",
     "output_type": "error",
     "traceback": [
      "\u001b[0;36m  Cell \u001b[0;32mIn[2], line 3\u001b[0;36m\u001b[0m\n\u001b[0;31m    md = @dice begin\u001b[0m\n\u001b[0m         ^\u001b[0m\n\u001b[0;31mSyntaxError\u001b[0m\u001b[0;31m:\u001b[0m invalid syntax\n"
     ]
    }
   ],
   "source": [
    "# Dice N-Queens example from GitHub\n",
    "N = 5\n",
    "md = @dice begin\n",
    "    row_to_col = [\n",
    "        uniform(DistInt32, 1, 1 + N)\n",
    "        for _ in 1:N\n",
    "    ]\n",
    "\n",
    "    for (i1, col1) in enumerate(row_to_col)\n",
    "        for (i2, col2) in enumerate(row_to_col)\n",
    "            i1 == i2 && continue\n",
    "            # Convert rows to Dist\n",
    "            row1, row2 = DistInt32(i1), DistInt32(i2)\n",
    "            # Check column conflicts\n",
    "            observe(!prob_equals(col1, col2))\n",
    "            # Check conflicts along one diagonal\n",
    "            observe(!prob_equals(row1 + col1, row2 + col2))\n",
    "            # Check conflicts along other diagonal\n",
    "            observe(!prob_equals(row1 - col1, row2 - col2))\n",
    "        end\n",
    "    end    \n",
    "    row_to_col\n",
    "end"
   ]
  },
  {
   "cell_type": "markdown",
   "id": "a54ba8e1",
   "metadata": {
    "slideshow": {
     "slide_type": "fragment"
    }
   },
   "source": [
    "## 2. Sampling Inference (e.g., WebPPL)\n",
    "- Infer distribution via sampling techniques (e.g., rejection sampling, MCMC).\n",
    "- More expressive $\\rightarrow$ more program coverage."
   ]
  },
  {
   "cell_type": "code",
   "execution_count": 3,
   "id": "e9c16b83",
   "metadata": {},
   "outputs": [
    {
     "ename": "SyntaxError",
     "evalue": "invalid syntax (2426627952.py, line 2)",
     "output_type": "error",
     "traceback": [
      "\u001b[0;36m  Cell \u001b[0;32mIn[3], line 2\u001b[0;36m\u001b[0m\n\u001b[0;31m    var binomial = function() {\u001b[0m\n\u001b[0m        ^\u001b[0m\n\u001b[0;31mSyntaxError\u001b[0m\u001b[0;31m:\u001b[0m invalid syntax\n"
     ]
    }
   ],
   "source": [
    "# WebPPL example\n",
    "var binomial = function() {\n",
    "  var a = sample(Bernoulli({ p: 0.5 }))\n",
    "  var b = sample(Bernoulli({ p: 0.5 }))\n",
    "  var c = sample(Bernoulli({ p: 0.5 }))\n",
    "  return a + b + c\n",
    "}\n",
    "\n",
    "var binomialDist = Infer({ model: binomial })"
   ]
  },
  {
   "cell_type": "markdown",
   "id": "a62efc21",
   "metadata": {
    "slideshow": {
     "slide_type": "slide"
    }
   },
   "source": [
    "# Why not both?\n",
    "Give the user the option to choose between exact inference and sampling inference."
   ]
  },
  {
   "cell_type": "markdown",
   "id": "e81af0ab",
   "metadata": {
    "slideshow": {
     "slide_type": "fragment"
    }
   },
   "source": [
    "## Design Goals\n",
    "1. **Flexibility/Coverage:** user is can choose what inference techniques to use.\n",
    "2. **Readability:** retain as much of Python's existing syntax as possible."
   ]
  },
  {
   "cell_type": "markdown",
   "id": "50129e18",
   "metadata": {
    "slideshow": {
     "slide_type": "subslide"
    }
   },
   "source": [
    "### Example: Keeping Python's Syntax"
   ]
  },
  {
   "cell_type": "code",
   "execution_count": 4,
   "id": "7d512bfe",
   "metadata": {
    "slideshow": {
     "slide_type": "-"
    }
   },
   "outputs": [],
   "source": [
    "# Note: return_types is temporary until we implement a type analysis pass.\n",
    "@pyppl.compile(return_types=pyppl.Flip)\n",
    "def first_head_or_both_tails(\n",
    "    prob_first: float,\n",
    "    prob_second: float\n",
    "):\n",
    "    first = pyppl.Flip(prob_first)\n",
    "    if first:\n",
    "        return True\n",
    "    else:\n",
    "        second = pyppl.Flip(prob_second)\n",
    "        return not second"
   ]
  },
  {
   "cell_type": "code",
   "execution_count": 5,
   "id": "3e4d26d6",
   "metadata": {
    "slideshow": {
     "slide_type": "fragment"
    }
   },
   "outputs": [
    {
     "name": "stdout",
     "output_type": "stream",
     "text": [
      "Flip(DiscreteDistribution({\n",
      "  False: 0.241\n",
      "  True : 0.759\n",
      "}))\n"
     ]
    }
   ],
   "source": [
    "with pyppl.RejectionSampling():\n",
    "    success = first_head_or_both_tails(0.5, 0.5)\n",
    "\n",
    "print(success)"
   ]
  },
  {
   "cell_type": "code",
   "execution_count": 6,
   "id": "2108b19c",
   "metadata": {
    "slideshow": {
     "slide_type": "fragment"
    }
   },
   "outputs": [
    {
     "ename": "NotImplementedError",
     "evalue": "ExactInference is unsupported.",
     "output_type": "error",
     "traceback": [
      "\u001b[0;31m---------------------------------------------------------------------------\u001b[0m",
      "\u001b[0;31mNotImplementedError\u001b[0m                       Traceback (most recent call last)",
      "Cell \u001b[0;32mIn[6], line 3\u001b[0m\n\u001b[1;32m      1\u001b[0m \u001b[38;5;66;03m# Note: Not implemented yet.\u001b[39;00m\n\u001b[1;32m      2\u001b[0m \u001b[38;5;28;01mwith\u001b[39;00m pyppl\u001b[38;5;241m.\u001b[39mExactInference():\n\u001b[0;32m----> 3\u001b[0m     success \u001b[38;5;241m=\u001b[39m \u001b[43mfirst_head_or_both_tails\u001b[49m\u001b[43m(\u001b[49m\u001b[38;5;241;43m0.5\u001b[39;49m\u001b[43m,\u001b[49m\u001b[43m \u001b[49m\u001b[38;5;241;43m0.5\u001b[39;49m\u001b[43m)\u001b[49m\n\u001b[1;32m      5\u001b[0m \u001b[38;5;28mprint\u001b[39m(success)\n",
      "File \u001b[0;32m~/Development/school/UCLA/cs267a-probabilistic-programming/pyppl/.venv/lib/python3.11/site-packages/pyppl/compiler.py:135\u001b[0m, in \u001b[0;36mcompile.<locals>.compile_impl.<locals>.contextual_execution\u001b[0;34m(*args, **kwargs)\u001b[0m\n\u001b[1;32m    132\u001b[0m     \u001b[38;5;28;01mreturn\u001b[39;00m inference\u001b[38;5;241m.\u001b[39msample(transformed_func, return_types,\n\u001b[1;32m    133\u001b[0m                             \u001b[38;5;241m*\u001b[39margs, \u001b[38;5;241m*\u001b[39m\u001b[38;5;241m*\u001b[39mkwargs)\n\u001b[1;32m    134\u001b[0m \u001b[38;5;28;01melif\u001b[39;00m \u001b[38;5;28misinstance\u001b[39m(inference, ExactInference):\n\u001b[0;32m--> 135\u001b[0m     \u001b[38;5;28;01mraise\u001b[39;00m \u001b[38;5;167;01mNotImplementedError\u001b[39;00m(\u001b[38;5;124m\"\u001b[39m\u001b[38;5;124mExactInference is unsupported.\u001b[39m\u001b[38;5;124m\"\u001b[39m)\n\u001b[1;32m    136\u001b[0m \u001b[38;5;28;01melse\u001b[39;00m:\n\u001b[1;32m    137\u001b[0m     \u001b[38;5;28;01mraise\u001b[39;00m \u001b[38;5;167;01mRuntimeError\u001b[39;00m(\n\u001b[1;32m    138\u001b[0m         \u001b[38;5;124mf\u001b[39m\u001b[38;5;124m\"\u001b[39m\u001b[38;5;124mUnsupported inference type \u001b[39m\u001b[38;5;132;01m{\u001b[39;00m\u001b[38;5;28mtype\u001b[39m(inference)\u001b[38;5;132;01m}\u001b[39;00m\u001b[38;5;124m\"\u001b[39m)\n",
      "\u001b[0;31mNotImplementedError\u001b[0m: ExactInference is unsupported."
     ]
    }
   ],
   "source": [
    "# Note: Not implemented yet.\n",
    "with pyppl.ExactInference():\n",
    "    success = first_head_or_both_tails(0.5, 0.5)\n",
    "\n",
    "print(success)"
   ]
  },
  {
   "cell_type": "markdown",
   "id": "1ae6e530",
   "metadata": {
    "slideshow": {
     "slide_type": "subslide"
    }
   },
   "source": [
    "### Example: Partial Loop Support"
   ]
  },
  {
   "cell_type": "code",
   "execution_count": 7,
   "id": "59695e51",
   "metadata": {},
   "outputs": [],
   "source": [
    "@pyppl.compile(return_types=pyppl.Flip)\n",
    "def up_to_n_heads_in_a_row(n):\n",
    "    # Random number of flips from [1, n]\n",
    "    random_n = pyppl.Integer(pyppl.UniformDistribution(1, n))\n",
    "    \n",
    "    n_heads_in_a_row = True\n",
    "    for _ in range(int(random_n)):\n",
    "        n_heads_in_a_row &= pyppl.Flip()\n",
    "    return n_heads_in_a_row"
   ]
  },
  {
   "cell_type": "code",
   "execution_count": 8,
   "id": "a1e7a0fb",
   "metadata": {
    "slideshow": {
     "slide_type": "fragment"
    }
   },
   "outputs": [
    {
     "name": "stdout",
     "output_type": "stream",
     "text": [
      "Flip(DiscreteDistribution({\n",
      "  False: 0.810\n",
      "  True : 0.190\n",
      "}))\n"
     ]
    }
   ],
   "source": [
    "with pyppl.RejectionSampling():\n",
    "    success = up_to_n_heads_in_a_row(5)\n",
    "print(success)"
   ]
  },
  {
   "cell_type": "markdown",
   "id": "26f690c1",
   "metadata": {
    "slideshow": {
     "slide_type": "subslide"
    }
   },
   "source": [
    "## Hybrid Inference\n",
    "Resolve each context frame individually and aggregate distribution results in return."
   ]
  },
  {
   "cell_type": "code",
   "execution_count": 9,
   "id": "46464e97",
   "metadata": {
    "slideshow": {
     "slide_type": "-"
    }
   },
   "outputs": [],
   "source": [
    "# Ideal goa\n",
    "@pyppl.compile(return_types=pyppl.Flip)\n",
    "def n_plus_one_heads_in_a_row(n):\n",
    "    # Unbound inference context.\n",
    "    # User can choose what inference technique to use here.\n",
    "    first_heads = pyppl.Flip()\n",
    "    # Unbound inference context end.\n",
    "    \n",
    "    # Always evaluate this code with rejection sampling.\n",
    "    with pyppl.RejectionSampling():\n",
    "        n_heads_in_a_row = True\n",
    "        for _ in range(n):\n",
    "            n_heads_in_a_row &= pyppl.Flip()\n",
    "    # Rejection sampling context end.\n",
    "        \n",
    "    return first_heads and n_heads_in_a_row"
   ]
  },
  {
   "cell_type": "code",
   "execution_count": 10,
   "id": "be5c8d9d",
   "metadata": {},
   "outputs": [
    {
     "ename": "NotImplementedError",
     "evalue": "ExactInference is unsupported.",
     "output_type": "error",
     "traceback": [
      "\u001b[0;31m---------------------------------------------------------------------------\u001b[0m",
      "\u001b[0;31mNotImplementedError\u001b[0m                       Traceback (most recent call last)",
      "Cell \u001b[0;32mIn[10], line 2\u001b[0m\n\u001b[1;32m      1\u001b[0m \u001b[38;5;28;01mwith\u001b[39;00m pyppl\u001b[38;5;241m.\u001b[39mExactInference():\n\u001b[0;32m----> 2\u001b[0m     success \u001b[38;5;241m=\u001b[39m \u001b[43mn_plus_one_heads_in_a_row\u001b[49m\u001b[43m(\u001b[49m\u001b[38;5;241;43m5\u001b[39;49m\u001b[43m)\u001b[49m\n\u001b[1;32m      4\u001b[0m \u001b[38;5;28;01mwith\u001b[39;00m pyppl\u001b[38;5;241m.\u001b[39mRejectionSampling():\n\u001b[1;32m      5\u001b[0m     success \u001b[38;5;241m=\u001b[39m n_plus_one_heads_in_a_row(\u001b[38;5;241m5\u001b[39m)\n",
      "File \u001b[0;32m~/Development/school/UCLA/cs267a-probabilistic-programming/pyppl/.venv/lib/python3.11/site-packages/pyppl/compiler.py:135\u001b[0m, in \u001b[0;36mcompile.<locals>.compile_impl.<locals>.contextual_execution\u001b[0;34m(*args, **kwargs)\u001b[0m\n\u001b[1;32m    132\u001b[0m     \u001b[38;5;28;01mreturn\u001b[39;00m inference\u001b[38;5;241m.\u001b[39msample(transformed_func, return_types,\n\u001b[1;32m    133\u001b[0m                             \u001b[38;5;241m*\u001b[39margs, \u001b[38;5;241m*\u001b[39m\u001b[38;5;241m*\u001b[39mkwargs)\n\u001b[1;32m    134\u001b[0m \u001b[38;5;28;01melif\u001b[39;00m \u001b[38;5;28misinstance\u001b[39m(inference, ExactInference):\n\u001b[0;32m--> 135\u001b[0m     \u001b[38;5;28;01mraise\u001b[39;00m \u001b[38;5;167;01mNotImplementedError\u001b[39;00m(\u001b[38;5;124m\"\u001b[39m\u001b[38;5;124mExactInference is unsupported.\u001b[39m\u001b[38;5;124m\"\u001b[39m)\n\u001b[1;32m    136\u001b[0m \u001b[38;5;28;01melse\u001b[39;00m:\n\u001b[1;32m    137\u001b[0m     \u001b[38;5;28;01mraise\u001b[39;00m \u001b[38;5;167;01mRuntimeError\u001b[39;00m(\n\u001b[1;32m    138\u001b[0m         \u001b[38;5;124mf\u001b[39m\u001b[38;5;124m\"\u001b[39m\u001b[38;5;124mUnsupported inference type \u001b[39m\u001b[38;5;132;01m{\u001b[39;00m\u001b[38;5;28mtype\u001b[39m(inference)\u001b[38;5;132;01m}\u001b[39;00m\u001b[38;5;124m\"\u001b[39m)\n",
      "\u001b[0;31mNotImplementedError\u001b[0m: ExactInference is unsupported."
     ]
    }
   ],
   "source": [
    "# Ideal goal\n",
    "with pyppl.ExactInference():\n",
    "    success = n_plus_one_heads_in_a_row(5)\n",
    "    \n",
    "with pyppl.RejectionSampling():\n",
    "    success = n_plus_one_heads_in_a_row(5)"
   ]
  },
  {
   "cell_type": "markdown",
   "id": "129072cc",
   "metadata": {
    "slideshow": {
     "slide_type": "slide"
    }
   },
   "source": [
    "# pyppl.compile\n",
    "A JIT decorator that will\n",
    "1. **For sampling inference:** perform the appropriate code transformations for `pyppl.observe`.\n",
    "2. **For exact inference:** compute the binary decision diagram (BDD) via control flow analysis (via `pycfg`).\n",
    "3. **Return type analysis:** determine the return type of the function (e.g., `pyppl.Flip`, `Tuple[...]`)."
   ]
  },
  {
   "cell_type": "markdown",
   "id": "fdb3c7dc",
   "metadata": {
    "slideshow": {
     "slide_type": "fragment"
    }
   },
   "source": [
    "Workflow:\n",
    "1. Retrieves the function source code with the built-in `inspect` library.\n",
    "2. Parses the source with the built-in `ast` library.\n",
    "3. Performs the appropriate analysis and transformations.\n",
    "4. Creates a wrapper that'll return a context-dependent result."
   ]
  },
  {
   "cell_type": "markdown",
   "id": "3ffe299c",
   "metadata": {
    "slideshow": {
     "slide_type": "subslide"
    }
   },
   "source": [
    "## Supporting `pyppl.observe`\n",
    "- We wanted `pyppl.observe` to resemble other probabilistic programming DSLs."
   ]
  },
  {
   "cell_type": "code",
   "execution_count": 11,
   "id": "84454483",
   "metadata": {
    "slideshow": {
     "slide_type": "fragment"
    }
   },
   "outputs": [],
   "source": [
    "@pyppl.compile(return_types=pyppl.Flip)\n",
    "def always_heads():\n",
    "    f = pyppl.Flip()\n",
    "    pyppl.observe(f)\n",
    "    if f:\n",
    "        return True\n",
    "    else:\n",
    "        return False"
   ]
  },
  {
   "cell_type": "code",
   "execution_count": null,
   "id": "ce85382b",
   "metadata": {},
   "outputs": [],
   "source": [
    "with pyppl.RejectionSampling():\n",
    "    coin_flip = always_heads()\n",
    "print(coin_flip)"
   ]
  },
  {
   "cell_type": "markdown",
   "id": "ccaca6f6",
   "metadata": {
    "slideshow": {
     "slide_type": "fragment"
    }
   },
   "source": [
    "`pyppl.compile` the `pyppl.observe` statement in `always_heads` into"
   ]
  },
  {
   "cell_type": "code",
   "execution_count": null,
   "id": "1afed5a0",
   "metadata": {},
   "outputs": [],
   "source": [
    "def always_heads_transformed():\n",
    "    f = pyppl.Flip()\n",
    "    \n",
    "    if not pyppl.observe(f):\n",
    "        return pyppl.NotObservable\n",
    "    \n",
    "    ..."
   ]
  },
  {
   "cell_type": "markdown",
   "id": "6ef66922",
   "metadata": {},
   "source": [
    "The sampler is able to detect when a sample is not observable."
   ]
  },
  {
   "cell_type": "markdown",
   "id": "552fe0ae",
   "metadata": {
    "slideshow": {
     "slide_type": "fragment"
    }
   },
   "source": [
    "## Supporting Inference Contexts\n",
    "Replaces the compiled function with a runtime context check."
   ]
  },
  {
   "cell_type": "code",
   "execution_count": null,
   "id": "a7a1a917",
   "metadata": {},
   "outputs": [],
   "source": [
    "# Pseudo-code\n",
    "def always_heads_compiled():\n",
    "    if cur_context is SamplingInference:\n",
    "        return sample(always_heads_transformed)\n",
    "    elif cur_context is ExactInference:\n",
    "        return exact_inference(always_heads_transformed)\n",
    "    ..."
   ]
  },
  {
   "cell_type": "markdown",
   "id": "84520807",
   "metadata": {
    "slideshow": {
     "slide_type": "slide"
    }
   },
   "source": [
    "# Probabilistic Primitives\n",
    "We plan to support\n",
    "1. `bool` for both sampling and exact inference.\n",
    "2. `int`, `float` for sampling inference (possibly exact inference for select cases)."
   ]
  },
  {
   "cell_type": "markdown",
   "id": "af1e7344",
   "metadata": {
    "slideshow": {
     "slide_type": "subslide"
    }
   },
   "source": [
    "## Booleans\n",
    "- `pyppl.ProbBool` (alias `pyppl.Flip`)."
   ]
  },
  {
   "cell_type": "code",
   "execution_count": null,
   "id": "4e4ceb4e",
   "metadata": {},
   "outputs": [],
   "source": [
    "f = pyppl.Flip(prob_true=0.7)\n",
    "print(f)"
   ]
  },
  {
   "cell_type": "markdown",
   "id": "686368f1",
   "metadata": {
    "slideshow": {
     "slide_type": "subslide"
    }
   },
   "source": [
    "## Numerics\n",
    "The number types we have are\n",
    "1. `pyppl.Integer`\n",
    "2. `pyppl.Real`\n",
    "\n",
    "We have the following distributions\n",
    "1. `pyppl.UniformDistribution`\n",
    "2. `pyppl.GaussianDistribution`\n",
    "3. `pyppl.DiscreteDistribution`"
   ]
  },
  {
   "cell_type": "markdown",
   "id": "e30a5262",
   "metadata": {
    "slideshow": {
     "slide_type": "fragment"
    }
   },
   "source": [
    "We initialize each number type with some distribution."
   ]
  },
  {
   "cell_type": "code",
   "execution_count": null,
   "id": "c0444797",
   "metadata": {},
   "outputs": [],
   "source": [
    "# range [0, 5]\n",
    "rand_dist = pyppl.UniformDistribution(0, 5)\n",
    "rand_int = pyppl.Integer(rand_dist)\n",
    "print(rand_int)"
   ]
  },
  {
   "cell_type": "code",
   "execution_count": null,
   "id": "de82e119",
   "metadata": {},
   "outputs": [],
   "source": [
    "rand_dist = pyppl.GaussianDistribution(mu=0, sigma=5)\n",
    "rand_real = pyppl.Real(rand_dist)\n",
    "print(rand_real)"
   ]
  },
  {
   "cell_type": "markdown",
   "id": "7971b3a4",
   "metadata": {
    "slideshow": {
     "slide_type": "fragment"
    }
   },
   "source": [
    "For sampling inference, we also support common operations."
   ]
  },
  {
   "cell_type": "markdown",
   "id": "ab99831d",
   "metadata": {},
   "source": [
    "## Example: Rolling two dice"
   ]
  },
  {
   "cell_type": "code",
   "execution_count": null,
   "id": "f033c5b2",
   "metadata": {},
   "outputs": [],
   "source": [
    "@pyppl.compile(return_types=pyppl.Integer)\n",
    "def two_dice_rolls():\n",
    "    six_sided_dice = pyppl.UniformDistribution(1, 6)\n",
    "    roll1 = pyppl.Integer(six_sided_dice)\n",
    "    roll2 = pyppl.Integer(six_sided_dice)\n",
    "    return roll1 + roll2"
   ]
  },
  {
   "cell_type": "code",
   "execution_count": null,
   "id": "e209af79",
   "metadata": {
    "slideshow": {
     "slide_type": "fragment"
    }
   },
   "outputs": [],
   "source": [
    "with pyppl.RejectionSampling():\n",
    "    my_roll = two_dice_rolls()\n",
    "print(my_roll)"
   ]
  },
  {
   "cell_type": "markdown",
   "id": "654dabe8",
   "metadata": {
    "slideshow": {
     "slide_type": "fragment"
    }
   },
   "source": [
    "We can combine everything to express more complicated scenarios."
   ]
  },
  {
   "cell_type": "markdown",
   "id": "38b14246",
   "metadata": {
    "slideshow": {
     "slide_type": "fragment"
    }
   },
   "source": [
    "### Example: Rolling two dice BUT I'M LUCKY :)"
   ]
  },
  {
   "cell_type": "code",
   "execution_count": null,
   "id": "b21df7f9",
   "metadata": {},
   "outputs": [],
   "source": [
    "@pyppl.compile(return_types=pyppl.Integer)\n",
    "def two_dice_rolls_lucky():\n",
    "    six_sided_dice = pyppl.UniformDistribution(1, 6)\n",
    "    roll1 = pyppl.Integer(six_sided_dice)\n",
    "    roll2 = pyppl.Integer(six_sided_dice)\n",
    "    pyppl.observe(roll1 >= 3 and roll2 >= 3)\n",
    "    return roll1 + roll2"
   ]
  },
  {
   "cell_type": "code",
   "execution_count": null,
   "id": "dea87a96",
   "metadata": {},
   "outputs": [],
   "source": [
    "with pyppl.RejectionSampling():\n",
    "    lucky_roll = two_dice_rolls_lucky()\n",
    "print(lucky_roll)"
   ]
  },
  {
   "cell_type": "markdown",
   "id": "df195d2f",
   "metadata": {
    "slideshow": {
     "slide_type": "fragment"
    }
   },
   "source": [
    "### Example: Rolling an `n`-sided dice `n` times"
   ]
  },
  {
   "cell_type": "code",
   "execution_count": null,
   "id": "3a4bfe05",
   "metadata": {
    "slideshow": {
     "slide_type": "-"
    }
   },
   "outputs": [],
   "source": [
    "@pyppl.compile(return_types=pyppl.Integer)\n",
    "def n_rolls_of_a_n_sided_dice(*, num_rolls, num_sides):\n",
    "    dice = pyppl.UniformDistribution(1, num_sides)\n",
    "    \n",
    "    roll_sum = 0\n",
    "    for _ in range(num_rolls):\n",
    "        roll_sum += pyppl.Integer(dice)\n",
    "        \n",
    "    return roll_sum"
   ]
  },
  {
   "cell_type": "code",
   "execution_count": null,
   "id": "d558efa1",
   "metadata": {},
   "outputs": [],
   "source": [
    "with pyppl.RejectionSampling():\n",
    "    my_roll = n_rolls_of_a_n_sided_dice(num_rolls=3, num_sides=5)\n",
    "print(my_roll)"
   ]
  }
 ],
 "metadata": {
  "celltoolbar": "Slideshow",
  "kernelspec": {
   "display_name": "Python 3 (ipykernel)",
   "language": "python",
   "name": "python3"
  },
  "language_info": {
   "codemirror_mode": {
    "name": "ipython",
    "version": 3
   },
   "file_extension": ".py",
   "mimetype": "text/x-python",
   "name": "python",
   "nbconvert_exporter": "python",
   "pygments_lexer": "ipython3",
   "version": "3.11.3"
  }
 },
 "nbformat": 4,
 "nbformat_minor": 5
}
