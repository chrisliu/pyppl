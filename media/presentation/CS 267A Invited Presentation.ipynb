{
 "cells": [
  {
   "cell_type": "markdown",
   "id": "9591b2df",
   "metadata": {
    "slideshow": {
     "slide_type": "slide"
    }
   },
   "source": [
    "# PyPPL\n",
    "An Python-embedded Probabilistic Programming Language"
   ]
  },
  {
   "cell_type": "code",
   "execution_count": null,
   "id": "35c568e9",
   "metadata": {
    "slideshow": {
     "slide_type": "-"
    }
   },
   "outputs": [],
   "source": [
    "import pyppl"
   ]
  },
  {
   "cell_type": "markdown",
   "id": "9c114279",
   "metadata": {},
   "source": [
    "> Joshua Duquette, Christopher Liu, Rishi Upadhyay"
   ]
  },
  {
   "cell_type": "markdown",
   "id": "2dcafe45",
   "metadata": {
    "slideshow": {
     "slide_type": "slide"
    }
   },
   "source": [
    "# Choose your inference style"
   ]
  },
  {
   "cell_type": "markdown",
   "id": "854d4d19",
   "metadata": {
    "slideshow": {
     "slide_type": "fragment"
    }
   },
   "source": [
    "## 1. Exact Inference (e.g., Dice)\n",
    "- Statically analyze the execution graph and compute the distribution.\n",
    "- Fast inference for discrete programs."
   ]
  },
  {
   "cell_type": "code",
   "execution_count": null,
   "id": "062ba80e",
   "metadata": {},
   "outputs": [],
   "source": [
    "# Dice N-Queens example from GitHub\n",
    "N = 5\n",
    "md = @dice begin\n",
    "    row_to_col = [\n",
    "        uniform(DistInt32, 1, 1 + N)\n",
    "        for _ in 1:N\n",
    "    ]\n",
    "\n",
    "    for (i1, col1) in enumerate(row_to_col)\n",
    "        for (i2, col2) in enumerate(row_to_col)\n",
    "            i1 == i2 && continue\n",
    "            # Convert rows to Dist\n",
    "            row1, row2 = DistInt32(i1), DistInt32(i2)\n",
    "            # Check column conflicts\n",
    "            observe(!prob_equals(col1, col2))\n",
    "            # Check conflicts along one diagonal\n",
    "            observe(!prob_equals(row1 + col1, row2 + col2))\n",
    "            # Check conflicts along other diagonal\n",
    "            observe(!prob_equals(row1 - col1, row2 - col2))\n",
    "        end\n",
    "    end    \n",
    "    row_to_col\n",
    "end"
   ]
  },
  {
   "cell_type": "markdown",
   "id": "a54ba8e1",
   "metadata": {
    "slideshow": {
     "slide_type": "fragment"
    }
   },
   "source": [
    "## 2. Sampling Inference (e.g., WebPPL)\n",
    "- Infer distribution via sampling techniques (e.g., rejection sampling, MCMC).\n",
    "- More expressive $\\rightarrow$ more program coverage."
   ]
  },
  {
   "cell_type": "code",
   "execution_count": null,
   "id": "e9c16b83",
   "metadata": {},
   "outputs": [],
   "source": [
    "# WebPPL example\n",
    "var binomial = function() {\n",
    "  var a = sample(Bernoulli({ p: 0.5 }))\n",
    "  var b = sample(Bernoulli({ p: 0.5 }))\n",
    "  var c = sample(Bernoulli({ p: 0.5 }))\n",
    "  return a + b + c\n",
    "}\n",
    "\n",
    "var binomialDist = Infer({ model: binomial })"
   ]
  },
  {
   "cell_type": "markdown",
   "id": "a62efc21",
   "metadata": {
    "slideshow": {
     "slide_type": "slide"
    }
   },
   "source": [
    "# Why not both?\n",
    "Give the user the option to choose between exact inference and sampling inference."
   ]
  },
  {
   "cell_type": "markdown",
   "id": "e81af0ab",
   "metadata": {
    "slideshow": {
     "slide_type": "fragment"
    }
   },
   "source": [
    "## Design Goals\n",
    "1. **Flexibility/Coverage:** user is can choose what inference techniques to use.\n",
    "2. **Readability:** retain as much of Python's existing syntax as possible."
   ]
  },
  {
   "cell_type": "markdown",
   "id": "83cb8004",
   "metadata": {
    "slideshow": {
     "slide_type": "subslide"
    }
   },
   "source": [
    "### Example: Keeping Python's Syntax"
   ]
  },
  {
   "cell_type": "code",
   "execution_count": null,
   "id": "7d512bfe",
   "metadata": {
    "slideshow": {
     "slide_type": "-"
    }
   },
   "outputs": [],
   "source": [
    "# Note: return_types is temporary until we implement a type analysis pass.\n",
    "@pyppl.compile(return_types=pyppl.Flip)\n",
    "def first_head_or_both_tails(\n",
    "    prob_first: float,\n",
    "    prob_second: float\n",
    "):\n",
    "    first = pyppl.Flip(prob_first)\n",
    "    if first:\n",
    "        return True\n",
    "    else:\n",
    "        second = pyppl.Flip(prob_second)\n",
    "        return not second"
   ]
  },
  {
   "cell_type": "code",
   "execution_count": null,
   "id": "3e4d26d6",
   "metadata": {
    "slideshow": {
     "slide_type": "fragment"
    }
   },
   "outputs": [],
   "source": [
    "with pyppl.RejectionSampling():\n",
    "    success = first_head_or_both_tails(0.5, 0.5)\n",
    "\n",
    "print(success)"
   ]
  },
  {
   "cell_type": "code",
   "execution_count": null,
   "id": "2108b19c",
   "metadata": {
    "slideshow": {
     "slide_type": "fragment"
    }
   },
   "outputs": [],
   "source": [
    "# Note: Not implemented yet.\n",
    "with pyppl.ExactInference():\n",
    "    success = first_head_or_both_tails(0.5, 0.5)\n",
    "\n",
    "print(success)"
   ]
  },
  {
   "cell_type": "markdown",
   "id": "c93b7768",
   "metadata": {
    "slideshow": {
     "slide_type": "subslide"
    }
   },
   "source": [
    "### Example: Partial Loop Support"
   ]
  },
  {
   "cell_type": "code",
   "execution_count": null,
   "id": "1072ac38",
   "metadata": {},
   "outputs": [],
   "source": [
    "@pyppl.compile(return_types=pyppl.Flip)\n",
    "def up_to_n_heads_in_a_row(n):\n",
    "    # Random number of flips from [1, n]\n",
    "    random_n = pyppl.Integer(pyppl.UniformDistribution(1, n))\n",
    "    \n",
    "    n_heads_in_a_row = True\n",
    "    for _ in range(int(random_n)):\n",
    "        n_heads_in_a_row &= pyppl.Flip()\n",
    "    return n_heads_in_a_row"
   ]
  },
  {
   "cell_type": "code",
   "execution_count": null,
   "id": "1be61844",
   "metadata": {
    "slideshow": {
     "slide_type": "fragment"
    }
   },
   "outputs": [],
   "source": [
    "with pyppl.RejectionSampling():\n",
    "    success = up_to_n_heads_in_a_row(5)\n",
    "print(success)"
   ]
  },
  {
   "cell_type": "markdown",
   "id": "26f690c1",
   "metadata": {
    "slideshow": {
     "slide_type": "subslide"
    }
   },
   "source": [
    "## Hybrid Inference\n",
    "Resolve each context frame individually and aggregate distribution results in return."
   ]
  },
  {
   "cell_type": "code",
   "execution_count": null,
   "id": "46464e97",
   "metadata": {
    "slideshow": {
     "slide_type": "-"
    }
   },
   "outputs": [],
   "source": [
    "# Ideal goal\n",
    "@pyppl.compile(return_types=pyppl.Flip)\n",
    "def n_plus_one_heads_in_a_row(n):\n",
    "    # Unbound inference context.\n",
    "    # User can choose what inference technique to use here.\n",
    "    first_heads = pyppl.Flip()\n",
    "    # Unbound inference context end.\n",
    "    \n",
    "    # Always evaluate this code with rejection sampling.\n",
    "    with pyppl.RejectionSampling():\n",
    "        n_heads_in_a_row = True\n",
    "        for _ in range(n):\n",
    "            n_heads_in_a_row &= pyppl.Flip()\n",
    "    # Rejection sampling context end.\n",
    "        \n",
    "    return first_heads and n_heads_in_a_row"
   ]
  },
  {
   "cell_type": "code",
   "execution_count": null,
   "id": "be5c8d9d",
   "metadata": {},
   "outputs": [],
   "source": [
    "# Ideal goal\n",
    "with pyppl.ExactInference():\n",
    "    success = n_plus_one_heads_in_a_row(5)\n",
    "    \n",
    "with pyppl.RejectionSampling():\n",
    "    success = n_plus_one_heads_in_a_row(5)"
   ]
  },
  {
   "cell_type": "markdown",
   "id": "93d31a29",
   "metadata": {
    "slideshow": {
     "slide_type": "slide"
    }
   },
   "source": [
    "# pyppl.compile\n",
    "A JIT decorator that will\n",
    "1. **For sampling inference:** perform the appropriate code transformations for `pyppl.observe`.\n",
    "2. **For exact inference:** compute the binary decision diagram (BDD) via control flow analysis (via `pycfg`).\n",
    "3. **Return type analysis:** determine the return type of the function (e.g., `pyppl.Flip`, `Tuple[...]`)."
   ]
  },
  {
   "cell_type": "markdown",
   "id": "40b11fdf",
   "metadata": {
    "slideshow": {
     "slide_type": "fragment"
    }
   },
   "source": [
    "Workflow:\n",
    "1. Retrieves the function source code with the built-in `inspect` library.\n",
    "2. Parses the source with the built-in `ast` library.\n",
    "3. Performs the appropriate analysis and transformations.\n",
    "4. Creates a wrapper that'll return a context-dependent result."
   ]
  },
  {
   "cell_type": "markdown",
   "id": "3f639364",
   "metadata": {
    "slideshow": {
     "slide_type": "subslide"
    }
   },
   "source": [
    "## Supporting `pyppl.observe`\n",
    "- We wanted `pyppl.observe` to resemble other probabilistic programming DSLs."
   ]
  },
  {
   "cell_type": "code",
   "execution_count": null,
   "id": "563c360e",
   "metadata": {
    "slideshow": {
     "slide_type": "fragment"
    }
   },
   "outputs": [],
   "source": [
    "@pyppl.compile(return_types=pyppl.Flip)\n",
    "def always_heads():\n",
    "    f = pyppl.Flip()\n",
    "    pyppl.observe(f)\n",
    "    if f:\n",
    "        return True\n",
    "    else:\n",
    "        return False"
   ]
  },
  {
   "cell_type": "code",
   "execution_count": null,
   "id": "f2d0f53f",
   "metadata": {},
   "outputs": [],
   "source": [
    "with pyppl.RejectionSampling():\n",
    "    coin_flip = always_heads()\n",
    "print(coin_flip)"
   ]
  },
  {
   "cell_type": "markdown",
   "id": "1ef2d6c0",
   "metadata": {
    "slideshow": {
     "slide_type": "fragment"
    }
   },
   "source": [
    "`pyppl.compile` the `pyppl.observe` statement in `always_heads` into"
   ]
  },
  {
   "cell_type": "code",
   "execution_count": null,
   "id": "1fc6102e",
   "metadata": {},
   "outputs": [],
   "source": [
    "def always_heads_transformed():\n",
    "    f = pyppl.Flip()\n",
    "    \n",
    "    if not pyppl.observe(f):\n",
    "        return pyppl.NotObservable\n",
    "    \n",
    "    ..."
   ]
  },
  {
   "cell_type": "markdown",
   "id": "b0923d9d",
   "metadata": {},
   "source": [
    "The sampler is able to detect when a sample is not observable."
   ]
  },
  {
   "cell_type": "markdown",
   "id": "247c8dda",
   "metadata": {
    "slideshow": {
     "slide_type": "fragment"
    }
   },
   "source": [
    "## Supporting Inference Contexts\n",
    "Replaces the compiled function with a runtime context check."
   ]
  },
  {
   "cell_type": "code",
   "execution_count": null,
   "id": "2990e0de",
   "metadata": {},
   "outputs": [],
   "source": [
    "# Pseudo-code\n",
    "def always_heads_compiled():\n",
    "    if cur_context is SamplingInference:\n",
    "        return sample(always_heads_transformed)\n",
    "    elif cur_context is ExactInference:\n",
    "        return exact_inference(always_heads_transformed)\n",
    "    ..."
   ]
  },
  {
   "cell_type": "markdown",
   "id": "2647ee12",
   "metadata": {
    "slideshow": {
     "slide_type": "slide"
    }
   },
   "source": [
    "# Probabilistic Primitives\n",
    "We plan to support\n",
    "1. `bool` for both sampling and exact inference.\n",
    "2. `int`, `float` for sampling inference (possibly exact inference for select cases)."
   ]
  },
  {
   "cell_type": "markdown",
   "id": "3bc85a87",
   "metadata": {
    "slideshow": {
     "slide_type": "subslide"
    }
   },
   "source": [
    "## Booleans\n",
    "- `pyppl.ProbBool` (alias `pyppl.Flip`)."
   ]
  },
  {
   "cell_type": "code",
   "execution_count": null,
   "id": "2ef5c137",
   "metadata": {},
   "outputs": [],
   "source": [
    "f = pyppl.Flip(prob_true=0.7)\n",
    "print(f)"
   ]
  },
  {
   "cell_type": "markdown",
   "id": "d40e5c51",
   "metadata": {
    "slideshow": {
     "slide_type": "subslide"
    }
   },
   "source": [
    "## Numerics\n",
    "The number types we have are\n",
    "1. `pyppl.Integer`\n",
    "2. `pyppl.Real`\n",
    "\n",
    "We have the following distributions\n",
    "1. `pyppl.UniformDistribution`\n",
    "2. `pyppl.GaussianDistribution`\n",
    "3. `pyppl.DiscreteDistribution`"
   ]
  },
  {
   "cell_type": "markdown",
   "id": "6fc3bc2c",
   "metadata": {
    "slideshow": {
     "slide_type": "fragment"
    }
   },
   "source": [
    "We initialize each number type with some distribution."
   ]
  },
  {
   "cell_type": "code",
   "execution_count": null,
   "id": "cfdbcf09",
   "metadata": {},
   "outputs": [],
   "source": [
    "# range [0, 5]\n",
    "rand_dist = pyppl.UniformDistribution(0, 5)\n",
    "rand_int = pyppl.Integer(rand_dist)\n",
    "print(rand_int)"
   ]
  },
  {
   "cell_type": "code",
   "execution_count": null,
   "id": "9227cee6",
   "metadata": {},
   "outputs": [],
   "source": [
    "rand_dist = pyppl.GaussianDistribution(mu=0, sigma=5)\n",
    "rand_real = pyppl.Real(rand_dist)\n",
    "print(rand_real)"
   ]
  },
  {
   "cell_type": "markdown",
   "id": "7f00311f",
   "metadata": {
    "slideshow": {
     "slide_type": "fragment"
    }
   },
   "source": [
    "For sampling inference, we also support common operations."
   ]
  },
  {
   "cell_type": "markdown",
   "id": "9bfbc100",
   "metadata": {
    "slideshow": {
     "slide_type": "subslide"
    }
   },
   "source": [
    "## Example: Rolling two dice"
   ]
  },
  {
   "cell_type": "code",
   "execution_count": null,
   "id": "4bd550e1",
   "metadata": {},
   "outputs": [],
   "source": [
    "@pyppl.compile(return_types=pyppl.Integer)\n",
    "def two_dice_rolls():\n",
    "    six_sided_dice = pyppl.UniformDistribution(1, 6)\n",
    "    roll1 = pyppl.Integer(six_sided_dice)\n",
    "    roll2 = pyppl.Integer(six_sided_dice)\n",
    "    return roll1 + roll2"
   ]
  },
  {
   "cell_type": "code",
   "execution_count": null,
   "id": "34dfcd15",
   "metadata": {
    "slideshow": {
     "slide_type": "fragment"
    }
   },
   "outputs": [],
   "source": [
    "with pyppl.RejectionSampling():\n",
    "    my_roll = two_dice_rolls()\n",
    "print(my_roll)"
   ]
  },
  {
   "cell_type": "markdown",
   "id": "3c973922",
   "metadata": {
    "slideshow": {
     "slide_type": "fragment"
    }
   },
   "source": [
    "We can combine everything to express more complicated scenarios."
   ]
  },
  {
   "cell_type": "markdown",
   "id": "e5eba023",
   "metadata": {
    "slideshow": {
     "slide_type": "fragment"
    }
   },
   "source": [
    "### Example: Rolling two dice BUT I'M LUCKY :)"
   ]
  },
  {
   "cell_type": "code",
   "execution_count": null,
   "id": "6b1fc311",
   "metadata": {},
   "outputs": [],
   "source": [
    "@pyppl.compile(return_types=pyppl.Integer)\n",
    "def two_dice_rolls_lucky():\n",
    "    six_sided_dice = pyppl.UniformDistribution(1, 6)\n",
    "    roll1 = pyppl.Integer(six_sided_dice)\n",
    "    roll2 = pyppl.Integer(six_sided_dice)\n",
    "    pyppl.observe(roll1 >= 3 and roll2 >= 3)\n",
    "    return roll1 + roll2"
   ]
  },
  {
   "cell_type": "code",
   "execution_count": null,
   "id": "fb9d5d76",
   "metadata": {},
   "outputs": [],
   "source": [
    "with pyppl.RejectionSampling():\n",
    "    lucky_roll = two_dice_rolls_lucky()\n",
    "print(lucky_roll)"
   ]
  },
  {
   "cell_type": "markdown",
   "id": "59c7f40e",
   "metadata": {
    "slideshow": {
     "slide_type": "subslide"
    }
   },
   "source": [
    "### Example: Rolling an `n`-sided dice `n` times"
   ]
  },
  {
   "cell_type": "code",
   "execution_count": null,
   "id": "0a0354d4",
   "metadata": {
    "slideshow": {
     "slide_type": "-"
    }
   },
   "outputs": [],
   "source": [
    "@pyppl.compile(return_types=pyppl.Integer)\n",
    "def n_rolls_of_a_n_sided_dice(*, num_rolls, num_sides):\n",
    "    dice = pyppl.UniformDistribution(1, num_sides)\n",
    "    \n",
    "    roll_sum = 0\n",
    "    for _ in range(num_rolls):\n",
    "        roll_sum += pyppl.Integer(dice)\n",
    "        \n",
    "    return roll_sum"
   ]
  },
  {
   "cell_type": "code",
   "execution_count": null,
   "id": "7da2abb0",
   "metadata": {},
   "outputs": [],
   "source": [
    "with pyppl.RejectionSampling():\n",
    "    my_roll = n_rolls_of_a_n_sided_dice(num_rolls=3, num_sides=5)\n",
    "print(my_roll)"
   ]
  }
 ],
 "metadata": {
  "celltoolbar": "Slideshow",
  "kernelspec": {
   "display_name": "Python 3 (ipykernel)",
   "language": "python",
   "name": "python3"
  },
  "language_info": {
   "codemirror_mode": {
    "name": "ipython",
    "version": 3
   },
   "file_extension": ".py",
   "mimetype": "text/x-python",
   "name": "python",
   "nbconvert_exporter": "python",
   "pygments_lexer": "ipython3",
   "version": "3.11.3"
  }
 },
 "nbformat": 4,
 "nbformat_minor": 5
}
